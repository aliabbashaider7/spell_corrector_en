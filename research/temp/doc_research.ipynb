{
 "cells": [
  {
   "cell_type": "code",
   "execution_count": 12,
   "metadata": {
    "collapsed": true
   },
   "outputs": [],
   "source": [
    "import docx\n",
    "#from textblob import TextBlob\n",
    "from docx.shared import Pt\n",
    "doc=docx.Document(\"DO.docx\")\n",
    "doc1=docx.Document()"
   ]
  },
  {
   "cell_type": "code",
   "execution_count": 13,
   "metadata": {
    "scrolled": false
   },
   "outputs": [
    {
     "data": {
      "text/plain": [
       "'\\nsl=[]\\nparas=[]\\nf=[]\\ncount=0\\nl=len(doc.paragraphs)\\nfor i in doc.paragraphs:\\n    sl.append(i.style)\\n    #paras.append(i.text)\\n    a=doc1.add_paragraph(i.text)\\n    #print(a)\\n    a.style=sl[count]\\n    f=i.style.font\\n    #print(f.name)\\n    a.font=f\\n    a.size=Pt(12)\\n    #print(a.style)\\n    count=count+1\\n    #print(\"--------------------\")\\n   '"
      ]
     },
     "execution_count": 13,
     "metadata": {},
     "output_type": "execute_result"
    }
   ],
   "source": [
    "'''\n",
    "sl=[]\n",
    "paras=[]\n",
    "f=[]\n",
    "count=0\n",
    "l=len(doc.paragraphs)\n",
    "for i in doc.paragraphs:\n",
    "    sl.append(i.style)\n",
    "    #paras.append(i.text)\n",
    "    a=doc1.add_paragraph(i.text)\n",
    "    #print(a)\n",
    "    a.style=sl[count]\n",
    "    f=i.style.font\n",
    "    #print(f.name)\n",
    "    a.font=f\n",
    "    a.size=Pt(12)\n",
    "    #print(a.style)\n",
    "    count=count+1\n",
    "    #print(\"--------------------\")\n",
    "   ''' "
   ]
  },
  {
   "cell_type": "code",
   "execution_count": 21,
   "metadata": {},
   "outputs": [
    {
     "name": "stdout",
     "output_type": "stream",
     "text": [
      "None\n",
      "None\n",
      "None\n",
      "None\n",
      "None\n",
      "None\n",
      "None\n",
      "None\n",
      "None\n"
     ]
    }
   ],
   "source": [
    "#style=doc1.styles['Normal']\n",
    "#font=style.font\n",
    "#font.name='Times New Roman'\n",
    "#font.size=Pt(10)\n",
    "\n",
    "lp=len(doc.paragraphs)\n",
    "\n",
    "for p in range(lp):\n",
    "    a=doc1.add_paragraph()\n",
    "    for r in doc.paragraphs[p].runs:\n",
    "        #if(r.bold):\n",
    "            #print(r.text)\n",
    "        #r.style=\"Normal\"\n",
    "        #print(r.style.font)\n",
    "        style=r.style\n",
    "        print(style.font.size)\n",
    "        #font=style.font\n",
    "        #font.name=\"Century Schoolbook L\"\n",
    "        #font.size=style.font.size\n",
    "        #a.add_run(r.text,style).font\n",
    "        #a.add_run(\"----------------\")\n",
    "        \n",
    "        "
   ]
  },
  {
   "cell_type": "code",
   "execution_count": 15,
   "metadata": {
    "collapsed": true
   },
   "outputs": [],
   "source": [
    "doc1.save(\"x.docx\")"
   ]
  },
  {
   "cell_type": "code",
   "execution_count": null,
   "metadata": {
    "collapsed": true
   },
   "outputs": [],
   "source": []
  }
 ],
 "metadata": {
  "kernelspec": {
   "display_name": "Python 3",
   "language": "python",
   "name": "python3"
  },
  "language_info": {
   "codemirror_mode": {
    "name": "ipython",
    "version": 3
   },
   "file_extension": ".py",
   "mimetype": "text/x-python",
   "name": "python",
   "nbconvert_exporter": "python",
   "pygments_lexer": "ipython3",
   "version": "3.6.1"
  }
 },
 "nbformat": 4,
 "nbformat_minor": 2
}
